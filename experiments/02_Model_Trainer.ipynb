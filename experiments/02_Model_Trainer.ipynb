{
 "cells": [
  {
   "cell_type": "code",
   "execution_count": 1,
   "metadata": {},
   "outputs": [],
   "source": [
    "import os"
   ]
  },
  {
   "cell_type": "code",
   "execution_count": 2,
   "metadata": {},
   "outputs": [
    {
     "data": {
      "text/plain": [
       "'c:\\\\Users\\\\satish.hiremath\\\\OneDrive - o9 Solutions\\\\Desktop\\\\python\\\\e2e_mlops_dimond_price_prediction\\\\e2e_mlops_dimond_price_prediction\\\\experiments'"
      ]
     },
     "execution_count": 2,
     "metadata": {},
     "output_type": "execute_result"
    }
   ],
   "source": [
    "%pwd"
   ]
  },
  {
   "cell_type": "code",
   "execution_count": 3,
   "metadata": {},
   "outputs": [],
   "source": [
    "os.chdir(\"../\")"
   ]
  },
  {
   "cell_type": "code",
   "execution_count": 4,
   "metadata": {},
   "outputs": [],
   "source": [
    "from dataclasses import dataclass\n",
    "from pathlib import Path\n",
    "\n",
    "\n",
    "@dataclass(frozen=True)\n",
    "class PrepareBaseModelConfig:\n",
    "    root_dir: Path\n",
    "    base_model_path: Path\n",
    "    data_dir:Path\n",
    "    updated_base_model_path: Path\n",
    "    model_param_file:Path\n",
    "    target_column:str\n",
    "    drop_column:list\n",
    "    test_train_split:int\n",
    "    random_state:int\n",
    "\n",
    "    "
   ]
  },
  {
   "cell_type": "code",
   "execution_count": 5,
   "metadata": {},
   "outputs": [
    {
     "name": "stdout",
     "output_type": "stream",
     "text": [
      "[ 2024-02-04 19:47:23,313] 24 root-INFO -Logging has started\n",
      "[ 2024-02-04 19:47:23,439] 24 root-INFO -Logging has started\n"
     ]
    }
   ],
   "source": [
    "from DiamondPricePredictor.constants import *\n",
    "from DiamondPricePredictor.utils.common import read_yaml, create_directories,load_json,save_loaded_json,save_json,save_obj"
   ]
  },
  {
   "cell_type": "code",
   "execution_count": 6,
   "metadata": {},
   "outputs": [],
   "source": [
    "class ConfigurationManager:\n",
    "    def __init__(\n",
    "        self, \n",
    "        config_filepath = CONFIG_FILE_PATH,\n",
    "        params_filepath = PARAMS_FILE_PATH,\n",
    "        model_params_filepath = MODEL_PARAM_FILE_PATH,\n",
    "        ):\n",
    "        self.config = read_yaml(config_filepath)\n",
    "        self.params = read_yaml(params_filepath)\n",
    "        self.model_param=load_json(model_params_filepath)\n",
    "        \n",
    "\n",
    "        \n",
    "        create_directories([self.config.artifacts_root,self.config.artifacts_root+'/prepare_base_model'])\n",
    "\n",
    "        path=self.config.artifacts_root+'/prepare_base_model'+'/model_params.json'\n",
    "    \n",
    "        save_loaded_json(path,self.model_param)\n",
    "\n",
    "\n",
    "    def get_prepare_base_model_config(self) -> PrepareBaseModelConfig:\n",
    "        config = self.config.prepare_base_model\n",
    "        \n",
    "        \n",
    "        create_directories([config.root_dir])\n",
    "\n",
    "        prepare_base_model_config = PrepareBaseModelConfig(\n",
    "            root_dir=Path(config.root_dir),\n",
    "            base_model_path=Path(config.base_model_path),\n",
    "            updated_base_model_path=Path(config.updated_base_model_path),\n",
    "            data_dir=Path(config.data_dir),\n",
    "            model_param_file=Path(config.model_param_file),\n",
    "            target_column=self.params.TARGET_COLUMN,\n",
    "            drop_column=self.params.DROP_COLUMN,\n",
    "            test_train_split=self.params.TEST_TRAIN_SPLIT,\n",
    "            random_state=self.params.RANDOM_STATE,\n",
    "        )\n",
    "\n",
    "        return prepare_base_model_config\n"
   ]
  },
  {
   "cell_type": "code",
   "execution_count": 7,
   "metadata": {},
   "outputs": [],
   "source": [
    "import os\n",
    "import urllib.request as request\n",
    "from zipfile import ZipFile\n",
    "from sklearn.metrics import r2_score"
   ]
  },
  {
   "cell_type": "code",
   "execution_count": 8,
   "metadata": {},
   "outputs": [
    {
     "ename": "SyntaxError",
     "evalue": "invalid syntax (MLUtils.py, line 160)",
     "output_type": "error",
     "traceback": [
      "Traceback \u001b[1;36m(most recent call last)\u001b[0m:\n",
      "\u001b[0m  File \u001b[0;32mc:\\Users\\satish.hiremath\\OneDrive - o9 Solutions\\Desktop\\python\\e2e_mlops_dimond_price_prediction\\e2e_mlops_dimond_price_prediction\\env\\lib\\site-packages\\IPython\\core\\interactiveshell.py:3508\u001b[0m in \u001b[0;35mrun_code\u001b[0m\n    exec(code_obj, self.user_global_ns, self.user_ns)\u001b[0m\n",
      "\u001b[1;36m  Cell \u001b[1;32mIn[8], line 1\u001b[1;36m\n\u001b[1;33m    from DiamondPricePredictor.utils.MLUtils import PrepareData,SplitDataSet,evaluate_model,DataTransformation,best_score\u001b[1;36m\n",
      "\u001b[1;36m  File \u001b[1;32m~\\OneDrive - o9 Solutions\\Desktop\\python\\e2e_mlops_dimond_price_prediction\\e2e_mlops_dimond_price_prediction\\src\\DiamondPricePredictor\\utils\\MLUtils.py:160\u001b[1;36m\u001b[0m\n\u001b[1;33m    return report\u001b[0m\n\u001b[1;37m    ^\u001b[0m\n\u001b[1;31mSyntaxError\u001b[0m\u001b[1;31m:\u001b[0m invalid syntax\n"
     ]
    }
   ],
   "source": [
    "from DiamondPricePredictor.utils.MLUtils import PrepareData,SplitDataSet,evaluate_model,DataTransformation,best_score\n",
    "from DiamondPricePredictor.exception import CustomException\n",
    "import json\n",
    "import sys\n",
    "from sklearn.tree import DecisionTreeRegressor"
   ]
  },
  {
   "cell_type": "code",
   "execution_count": null,
   "metadata": {},
   "outputs": [],
   "source": [
    "class PrepareBaseModel:\n",
    "    def __init__(self, config: PrepareBaseModelConfig):\n",
    "        self.config = config\n",
    "\n",
    "    \n",
    "    def initiate_model_trainer(self):\n",
    "        try:            \n",
    "            path_of_files=self.config.data_dir\n",
    "            Target_Column=self.config.target_column\n",
    "            Drop_Columns=self.config.drop_column\n",
    "            split_ratio=self.config.test_train_split\n",
    "            random_state=self.config.random_state\n",
    "            model_param_file=self.config.model_param_file\n",
    "            base_model_path=self.config.base_model_path\n",
    "            root_dir=self.config.root_dir\n",
    "\n",
    "\n",
    "            feature_data,Target_data=PrepareData(Path(path_of_files),Target_Column,Drop_Columns)\n",
    "            \n",
    "            \n",
    "            x_train,y_train,x_test,y_test=SplitDataSet(feature_data,Target_data,split_ratio,random_state)\n",
    "            \n",
    "    \n",
    "            \n",
    "            x_train_t,y_train_t,x_test_t,y_test_t=DataTransformation(x_train,y_train,x_test,y_test,root_dir)\n",
    "\n",
    "            model_and_parameters=load_json(model_param_file)\n",
    "            \n",
    "            json_string = json.dumps(model_and_parameters)\n",
    "            data_dict = json.loads(json_string)\n",
    "            params = data_dict.get(\"params\", {})\n",
    "            models=data_dict.get(\"models\", {})\n",
    "\n",
    "\n",
    "\n",
    "            \n",
    "            model_report:dict=evaluate_model(x_train=x_train_t,y_train=y_train_t,x_test=x_test_t,y_test=y_test_t,models=models,param=params)\n",
    "\n",
    "            \n",
    "            best_model_score=max(sorted(model_report.values()))\n",
    "\n",
    "            best_model_name=list(model_report.keys())[list(model_report.values()).index(best_model_score)]\n",
    "\n",
    "            best_model=models[best_model_name]\n",
    "\n",
    "            if best_model_score<0.6:\n",
    "                raise CustomException('no best model found')\n",
    "            \n",
    "\n",
    "            best_model_dict={'best_model':best_model}\n",
    "\n",
    "            save_json(base_model_path,best_model_dict)\n",
    "\n",
    "            print(root_dir)\n",
    "            #save_obj(\n",
    "            #    file_path=base_model_path,\n",
    "            #    obj=best_model\n",
    "            #)\n",
    "            \n",
    "            r2_score_best_model=best_score(root_dir,best_model,x_train_t,y_train_t)\n",
    "\n",
    "            print(r2_score_best_model)\n",
    "\n",
    "            return r2_score_best_model\n",
    "        except Exception as e:\n",
    "           raise CustomException(e,sys)\n",
    "    \n"
   ]
  },
  {
   "cell_type": "code",
   "execution_count": null,
   "metadata": {},
   "outputs": [
    {
     "name": "stdout",
     "output_type": "stream",
     "text": [
      "[ 2024-02-04 19:42:07,048] 35 root-INFO -yaml file: config\\config.yaml loaded successfully\n",
      "[ 2024-02-04 19:42:07,063] 35 root-INFO -yaml file: params.yaml loaded successfully\n",
      "[ 2024-02-04 19:42:07,065] 102 root-INFO -json file loaded succesfully from: src\\model_param.json\n",
      "[ 2024-02-04 19:42:07,065] 55 root-INFO -created directory at: artifacts\n",
      "[ 2024-02-04 19:42:07,081] 55 root-INFO -created directory at: artifacts/prepare_base_model\n"
     ]
    },
    {
     "name": "stdout",
     "output_type": "stream",
     "text": [
      "[ 2024-02-04 19:42:07,092] 86 root-INFO -json file saved at: artifacts/prepare_base_model/model_params.json\n",
      "[ 2024-02-04 19:42:07,100] 55 root-INFO -created directory at: artifacts/prepare_base_model\n",
      "artifacts\\data_ingestion\\train.csv\n",
      "[ 2024-02-04 19:42:07,663] 72 root-INFO -The shape of X_train (116143, 9)\n",
      "[ 2024-02-04 19:42:07,699] 73 root-INFO -The head of X_test <bound method NDFrame.head of         carat        cut color clarity  depth  table     x     y     z\n",
      "54634    1.20  Very Good     F     SI1   63.5   60.0  6.60  6.64  4.19\n",
      "75493    1.06      Ideal     H     SI2   60.9   57.0  6.58  6.61  4.02\n",
      "102355   1.01    Premium     E     VS2   59.6   62.0  6.56  6.51  3.89\n",
      "21721    0.71      Ideal     E     SI1   62.5   55.0  5.68  5.72  3.55\n",
      "4885     0.43      Ideal     D     VS2   60.9   57.0  4.91  4.86  2.98\n",
      "...       ...        ...   ...     ...    ...    ...   ...   ...   ...\n",
      "119879   0.50  Very Good     E     SI1   60.2   61.0  5.11  5.15  3.09\n",
      "103694   1.91  Very Good     F     SI1   62.3   62.0  7.85  7.79  4.87\n",
      "131932   1.22    Premium     G     VS2   62.8   58.0  6.82  6.74  4.26\n",
      "146867   0.31  Very Good     G    VVS1   61.1   56.0  4.37  4.40  2.67\n",
      "121958   0.31  Very Good     G     SI2   61.8   59.0  4.34  4.38  2.70\n",
      "\n",
      "[116143 rows x 9 columns]>\n",
      "[ 2024-02-04 19:42:07,703] 74 root-INFO -The shape of X_test (77430, 9)\n",
      "[ 2024-02-04 19:42:07,709] 75 root-INFO -The head of X_train <bound method NDFrame.head of         carat        cut color clarity  depth  table     x     y     z\n",
      "14868    0.50      Ideal     D     SI1   62.1   57.0  5.05  5.08  3.14\n",
      "165613   2.00  Very Good     G     SI2   59.5   57.0  8.08  8.15  4.89\n",
      "96727    0.27    Premium     E    VVS1   60.5   59.0  4.19  4.16  2.52\n",
      "145593   0.32    Premium     I    VVS1   61.2   59.0  4.43  4.44  2.71\n",
      "118689   1.19      Ideal     H     SI1   62.5   56.0  6.77  6.81  4.23\n",
      "...       ...        ...   ...     ...    ...    ...   ...   ...   ...\n",
      "99643    0.56      Ideal     D     VS1   61.9   55.0  5.28  5.32  3.28\n",
      "36218    0.76      Ideal     F     VS2   61.6   56.0  5.87  5.90  3.63\n",
      "75617    1.04      Ideal     H     VS2   61.3   56.0  6.54  6.50  3.99\n",
      "96276    1.55    Premium     F     SI1   60.9   58.0  7.46  7.50  4.55\n",
      "187654   0.71    Premium     E     SI2   62.0   59.0  5.69  5.73  3.54\n",
      "\n",
      "[77430 rows x 9 columns]>\n",
      "[ 2024-02-04 19:42:07,717] 76 root-INFO -The shape of y_train (116143, 1)\n",
      "[ 2024-02-04 19:42:07,724] 77 root-INFO -The head of y_train <bound method NDFrame.head of         price\n",
      "54634    6776\n",
      "75493    4584\n",
      "102355   6616\n",
      "21721    2415\n",
      "4885     1018\n",
      "...       ...\n",
      "119879   1410\n",
      "103694  15064\n",
      "131932   7209\n",
      "146867    816\n",
      "121958    408\n",
      "\n",
      "[116143 rows x 1 columns]>\n",
      "[ 2024-02-04 19:42:07,727] 78 root-INFO -The shape of y_train (77430, 1)\n",
      "[ 2024-02-04 19:42:07,733] 79 root-INFO -The head of y_test <bound method NDFrame.head of         price\n",
      "14868    1355\n",
      "165613  14691\n",
      "96727     844\n",
      "145593    707\n",
      "118689   5797\n",
      "...       ...\n",
      "99643    2067\n",
      "36218    3170\n",
      "75617    5880\n",
      "96276   10698\n",
      "187654   2043\n",
      "\n",
      "[77430 rows x 1 columns]>\n",
      "[ 2024-02-04 19:42:07,748] 174 root-INFO -Index(['cut', 'color', 'clarity'], dtype='object') These Are Categorical features \n",
      "[ 2024-02-04 19:42:07,751] 175 root-INFO -Index(['carat', 'depth', 'table', 'x', 'y', 'z'], dtype='object') These Are Numerical features\n",
      "[ 2024-02-04 19:42:08,440] 227 root-INFO -The shape of X_train <class 'numpy.ndarray'>\n",
      "[ 2024-02-04 19:42:08,446] 228 root-INFO -The head of X_test (116143, 9)\n",
      "[ 2024-02-04 19:42:08,450] 229 root-INFO -The shape of X_test <class 'numpy.ndarray'>\n",
      "[ 2024-02-04 19:42:08,453] 230 root-INFO -The head of X_train (77430, 9)\n",
      "[ 2024-02-04 19:42:08,455] 231 root-INFO -The shape of y_train <class 'numpy.ndarray'>\n",
      "[ 2024-02-04 19:42:08,459] 232 root-INFO -The head of y_train (116143,)\n",
      "[ 2024-02-04 19:42:08,464] 233 root-INFO -The shape of y_train <class 'numpy.ndarray'>\n",
      "[ 2024-02-04 19:42:08,467] 234 root-INFO -The head of y_test (77430,)\n",
      "[ 2024-02-04 19:42:08,483] 102 root-INFO -json file loaded succesfully from: artifacts\\prepare_base_model\\model_params.json\n",
      "CatBoostRegressor(verbose=False)\n",
      "{'depth': [6], 'learning_rate': [0.01], 'iterations': [30]}\n",
      "[ 2024-02-04 19:42:10,086] 98 root-INFO -the Current model select {'depth': [6], 'learning_rate': [0.01], 'iterations': [30]} for the model CatBoostRegressor(verbose=False)\n",
      "[ 2024-02-04 19:42:15,909] 107 root-INFO -The Best Working Model <catboost.core.CatBoostRegressor object at 0x000002878DD7A9D0>\n",
      "hello\n",
      "depth 6\n",
      "iterations 30\n",
      "learning_rate 0.01\n",
      "CatBoostRegressor_\n"
     ]
    },
    {
     "name": "stderr",
     "output_type": "stream",
     "text": [
      "Successfully registered model 'sk-learn-CatBoostRegressor(verbose=Fals'.\n",
      "2024/02/04 19:42:50 INFO mlflow.tracking._model_registry.client: Waiting up to 300 seconds for model version to finish creation. Model name: sk-learn-CatBoostRegressor(verbose=Fals, version 1\n",
      "Created version '1' of model 'sk-learn-CatBoostRegressor(verbose=Fals'.\n"
     ]
    },
    {
     "ename": "CustomException",
     "evalue": "error occured in python script [C:\\Users\\satish.hiremath\\AppData\\Local\\Temp\\ipykernel_23220\\419796549.py] Line Number [5] error message [error occured in python script [C:\\Users\\satish.hiremath\\AppData\\Local\\Temp\\ipykernel_23220\\2728229636.py] Line Number [37] error message [error occured in python script [C:\\Users\\satish.hiremath\\OneDrive - o9 Solutions\\Desktop\\python\\e2e_mlops_dimond_price_prediction\\e2e_mlops_dimond_price_prediction\\src\\DiamondPricePredictor\\utils\\MLUtils.py] Line Number [93] error message [string indices must be integers]]]",
     "output_type": "error",
     "traceback": [
      "\u001b[1;31m---------------------------------------------------------------------------\u001b[0m",
      "\u001b[1;31mTypeError\u001b[0m                                 Traceback (most recent call last)",
      "File \u001b[1;32m~\\OneDrive - o9 Solutions\\Desktop\\python\\e2e_mlops_dimond_price_prediction\\e2e_mlops_dimond_price_prediction\\src\\DiamondPricePredictor\\utils\\MLUtils.py:93\u001b[0m, in \u001b[0;36mevaluate_model\u001b[1;34m(x_train, y_train, x_test, y_test, models, param)\u001b[0m\n\u001b[0;32m     92\u001b[0m model \u001b[38;5;241m=\u001b[39m \u001b[38;5;28mlist\u001b[39m(models\u001b[38;5;241m.\u001b[39mvalues())[i]\n\u001b[1;32m---> 93\u001b[0m param_grid\u001b[38;5;241m=\u001b[39m\u001b[43mparam\u001b[49m\u001b[43m[\u001b[49m\u001b[38;5;28;43mlist\u001b[39;49m\u001b[43m(\u001b[49m\u001b[43mmodels\u001b[49m\u001b[38;5;241;43m.\u001b[39;49m\u001b[43mkeys\u001b[49m\u001b[43m(\u001b[49m\u001b[43m)\u001b[49m\u001b[43m)\u001b[49m\u001b[43m[\u001b[49m\u001b[43mi\u001b[49m\u001b[43m]\u001b[49m\u001b[43m]\u001b[49m\n\u001b[0;32m     94\u001b[0m \u001b[38;5;28mprint\u001b[39m(model)\n",
      "\u001b[1;31mTypeError\u001b[0m: string indices must be integers",
      "\nDuring handling of the above exception, another exception occurred:\n",
      "\u001b[1;31mCustomException\u001b[0m                           Traceback (most recent call last)",
      "Cell \u001b[1;32mIn[9], line 37\u001b[0m, in \u001b[0;36mPrepareBaseModel.initiate_model_trainer\u001b[1;34m(self)\u001b[0m\n\u001b[0;32m     32\u001b[0m models\u001b[38;5;241m=\u001b[39mdata_dict\u001b[38;5;241m.\u001b[39mget(\u001b[38;5;124m\"\u001b[39m\u001b[38;5;124mmodels\u001b[39m\u001b[38;5;124m\"\u001b[39m, {})\n\u001b[1;32m---> 37\u001b[0m model_report:\u001b[38;5;28mdict\u001b[39m\u001b[38;5;241m=\u001b[39m\u001b[43mevaluate_model\u001b[49m\u001b[43m(\u001b[49m\u001b[43mx_train\u001b[49m\u001b[38;5;241;43m=\u001b[39;49m\u001b[43mx_train_t\u001b[49m\u001b[43m,\u001b[49m\u001b[43my_train\u001b[49m\u001b[38;5;241;43m=\u001b[39;49m\u001b[43my_train_t\u001b[49m\u001b[43m,\u001b[49m\u001b[43mx_test\u001b[49m\u001b[38;5;241;43m=\u001b[39;49m\u001b[43mx_test_t\u001b[49m\u001b[43m,\u001b[49m\u001b[43my_test\u001b[49m\u001b[38;5;241;43m=\u001b[39;49m\u001b[43my_test_t\u001b[49m\u001b[43m,\u001b[49m\u001b[43mmodels\u001b[49m\u001b[38;5;241;43m=\u001b[39;49m\u001b[43mmodels\u001b[49m\u001b[43m,\u001b[49m\u001b[43mparam\u001b[49m\u001b[38;5;241;43m=\u001b[39;49m\u001b[43mparams\u001b[49m\u001b[43m)\u001b[49m\n\u001b[0;32m     40\u001b[0m best_model_score\u001b[38;5;241m=\u001b[39m\u001b[38;5;28mmax\u001b[39m(\u001b[38;5;28msorted\u001b[39m(model_report\u001b[38;5;241m.\u001b[39mvalues()))\n",
      "File \u001b[1;32m~\\OneDrive - o9 Solutions\\Desktop\\python\\e2e_mlops_dimond_price_prediction\\e2e_mlops_dimond_price_prediction\\src\\DiamondPricePredictor\\utils\\MLUtils.py:164\u001b[0m, in \u001b[0;36mevaluate_model\u001b[1;34m(x_train, y_train, x_test, y_test, models, param)\u001b[0m\n\u001b[0;32m    163\u001b[0m \u001b[38;5;28;01mexcept\u001b[39;00m \u001b[38;5;167;01mException\u001b[39;00m \u001b[38;5;28;01mas\u001b[39;00m e:\n\u001b[1;32m--> 164\u001b[0m     \u001b[38;5;28;01mraise\u001b[39;00m CustomException(e,sys)\n",
      "\u001b[1;31mCustomException\u001b[0m: error occured in python script [C:\\Users\\satish.hiremath\\OneDrive - o9 Solutions\\Desktop\\python\\e2e_mlops_dimond_price_prediction\\e2e_mlops_dimond_price_prediction\\src\\DiamondPricePredictor\\utils\\MLUtils.py] Line Number [93] error message [string indices must be integers]",
      "\nDuring handling of the above exception, another exception occurred:\n",
      "\u001b[1;31mCustomException\u001b[0m                           Traceback (most recent call last)",
      "Cell \u001b[1;32mIn[10], line 5\u001b[0m\n\u001b[0;32m      4\u001b[0m     prepare_base_model \u001b[38;5;241m=\u001b[39m PrepareBaseModel(config\u001b[38;5;241m=\u001b[39mprepare_base_model_config)\n\u001b[1;32m----> 5\u001b[0m     \u001b[43mprepare_base_model\u001b[49m\u001b[38;5;241;43m.\u001b[39;49m\u001b[43minitiate_model_trainer\u001b[49m\u001b[43m(\u001b[49m\u001b[43m)\u001b[49m\n\u001b[0;32m      6\u001b[0m \u001b[38;5;28;01mexcept\u001b[39;00m \u001b[38;5;167;01mException\u001b[39;00m \u001b[38;5;28;01mas\u001b[39;00m e:\n",
      "Cell \u001b[1;32mIn[9], line 66\u001b[0m, in \u001b[0;36mPrepareBaseModel.initiate_model_trainer\u001b[1;34m(self)\u001b[0m\n\u001b[0;32m     65\u001b[0m \u001b[38;5;28;01mexcept\u001b[39;00m \u001b[38;5;167;01mException\u001b[39;00m \u001b[38;5;28;01mas\u001b[39;00m e:\n\u001b[1;32m---> 66\u001b[0m    \u001b[38;5;28;01mraise\u001b[39;00m CustomException(e,sys)\n",
      "\u001b[1;31mCustomException\u001b[0m: error occured in python script [C:\\Users\\satish.hiremath\\AppData\\Local\\Temp\\ipykernel_23220\\2728229636.py] Line Number [37] error message [error occured in python script [C:\\Users\\satish.hiremath\\OneDrive - o9 Solutions\\Desktop\\python\\e2e_mlops_dimond_price_prediction\\e2e_mlops_dimond_price_prediction\\src\\DiamondPricePredictor\\utils\\MLUtils.py] Line Number [93] error message [string indices must be integers]]",
      "\nDuring handling of the above exception, another exception occurred:\n",
      "\u001b[1;31mCustomException\u001b[0m                           Traceback (most recent call last)",
      "Cell \u001b[1;32mIn[10], line 7\u001b[0m\n\u001b[0;32m      5\u001b[0m     prepare_base_model\u001b[38;5;241m.\u001b[39minitiate_model_trainer()\n\u001b[0;32m      6\u001b[0m \u001b[38;5;28;01mexcept\u001b[39;00m \u001b[38;5;167;01mException\u001b[39;00m \u001b[38;5;28;01mas\u001b[39;00m e:\n\u001b[1;32m----> 7\u001b[0m     \u001b[38;5;28;01mraise\u001b[39;00m CustomException(e,sys)\n",
      "\u001b[1;31mCustomException\u001b[0m: error occured in python script [C:\\Users\\satish.hiremath\\AppData\\Local\\Temp\\ipykernel_23220\\419796549.py] Line Number [5] error message [error occured in python script [C:\\Users\\satish.hiremath\\AppData\\Local\\Temp\\ipykernel_23220\\2728229636.py] Line Number [37] error message [error occured in python script [C:\\Users\\satish.hiremath\\OneDrive - o9 Solutions\\Desktop\\python\\e2e_mlops_dimond_price_prediction\\e2e_mlops_dimond_price_prediction\\src\\DiamondPricePredictor\\utils\\MLUtils.py] Line Number [93] error message [string indices must be integers]]]"
     ]
    }
   ],
   "source": [
    "try:\n",
    "    config = ConfigurationManager()\n",
    "    prepare_base_model_config = config.get_prepare_base_model_config()\n",
    "    prepare_base_model = PrepareBaseModel(config=prepare_base_model_config)\n",
    "    prepare_base_model.initiate_model_trainer()\n",
    "except Exception as e:\n",
    "    raise CustomException(e,sys)"
   ]
  },
  {
   "cell_type": "code",
   "execution_count": null,
   "metadata": {},
   "outputs": [],
   "source": []
  },
  {
   "cell_type": "code",
   "execution_count": null,
   "metadata": {},
   "outputs": [],
   "source": []
  },
  {
   "cell_type": "code",
   "execution_count": null,
   "metadata": {},
   "outputs": [],
   "source": []
  }
 ],
 "metadata": {
  "kernelspec": {
   "display_name": "Python 3",
   "language": "python",
   "name": "python3"
  },
  "language_info": {
   "codemirror_mode": {
    "name": "ipython",
    "version": 3
   },
   "file_extension": ".py",
   "mimetype": "text/x-python",
   "name": "python",
   "nbconvert_exporter": "python",
   "pygments_lexer": "ipython3",
   "version": "3.8.18"
  }
 },
 "nbformat": 4,
 "nbformat_minor": 2
}
