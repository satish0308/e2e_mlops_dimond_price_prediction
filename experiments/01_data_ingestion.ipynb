{
 "cells": [
  {
   "cell_type": "code",
   "execution_count": 1,
   "metadata": {},
   "outputs": [
    {
     "data": {
      "text/plain": [
       "'c:\\\\Users\\\\satish.hiremath\\\\OneDrive - o9 Solutions\\\\Desktop\\\\python\\\\e2e_mlops_dimond_price_prediction\\\\e2e_mlops_dimond_price_prediction\\\\experiments'"
      ]
     },
     "execution_count": 1,
     "metadata": {},
     "output_type": "execute_result"
    }
   ],
   "source": [
    "%pwd"
   ]
  },
  {
   "cell_type": "code",
   "execution_count": 2,
   "metadata": {},
   "outputs": [],
   "source": [
    "import os"
   ]
  },
  {
   "cell_type": "code",
   "execution_count": 3,
   "metadata": {},
   "outputs": [],
   "source": [
    "os.chdir(\"../\")"
   ]
  },
  {
   "cell_type": "code",
   "execution_count": 4,
   "metadata": {},
   "outputs": [
    {
     "data": {
      "text/plain": [
       "'c:\\\\Users\\\\satish.hiremath\\\\OneDrive - o9 Solutions\\\\Desktop\\\\python\\\\e2e_mlops_dimond_price_prediction\\\\e2e_mlops_dimond_price_prediction'"
      ]
     },
     "execution_count": 4,
     "metadata": {},
     "output_type": "execute_result"
    }
   ],
   "source": [
    "%pwd"
   ]
  },
  {
   "cell_type": "code",
   "execution_count": 8,
   "metadata": {},
   "outputs": [],
   "source": [
    "from dataclasses import dataclass\n",
    "from pathlib import Path\n",
    "\n",
    "\n",
    "@dataclass(frozen=True)\n",
    "class DataIngestionConfig:\n",
    "    root_dir: Path\n",
    "    source_URL: str\n",
    "    local_data_file_train: Path\n",
    "    local_data_file_test:Path\n",
    "    unzip_dir: Path"
   ]
  },
  {
   "cell_type": "code",
   "execution_count": 1,
   "metadata": {},
   "outputs": [
    {
     "name": "stdout",
     "output_type": "stream",
     "text": [
      "[ 2024-02-03 12:26:20,290] 24 root-INFO -Logging has started\n"
     ]
    }
   ],
   "source": [
    "from DiamondPricePredictor.constants import *\n",
    "from DiamondPricePredictor.utils.common import read_yaml, create_directories"
   ]
  },
  {
   "cell_type": "code",
   "execution_count": 10,
   "metadata": {},
   "outputs": [],
   "source": [
    "class ConfigurationManager:\n",
    "    def __init__(\n",
    "        self,\n",
    "        config_filepath = CONFIG_FILE_PATH,\n",
    "        params_filepath = PARAMS_FILE_PATH):\n",
    "\n",
    "        self.config = read_yaml(config_filepath)\n",
    "        print(params_filepath)\n",
    "        print(config_filepath)\n",
    "        self.params = read_yaml(params_filepath)\n",
    "\n",
    "        create_directories([self.config.artifacts_root])\n",
    "\n",
    "\n",
    "    \n",
    "    def get_data_ingestion_config(self) -> DataIngestionConfig:\n",
    "        config = self.config.data_ingestion\n",
    "\n",
    "        create_directories([config.root_dir])\n",
    "\n",
    "        data_ingestion_config = DataIngestionConfig(\n",
    "            root_dir=config.root_dir,\n",
    "            source_URL=config.source_URL,\n",
    "            local_data_file_train=config.local_data_file_train,\n",
    "            local_data_file_test=config.local_data_file_test,\n",
    "            unzip_dir=config.unzip_dir \n",
    "        )\n",
    "\n",
    "        return data_ingestion_config"
   ]
  },
  {
   "cell_type": "code",
   "execution_count": 11,
   "metadata": {},
   "outputs": [],
   "source": [
    "import os\n",
    "import urllib.request as request\n",
    "import zipfile\n",
    "from DiamondPricePredictor.logger import logging\n",
    "from DiamondPricePredictor.utils.common import get_size\n",
    "\n",
    "import kaggle\n",
    "from kaggle.api.kaggle_api_extended import KaggleApi"
   ]
  },
  {
   "cell_type": "code",
   "execution_count": 18,
   "metadata": {},
   "outputs": [],
   "source": [
    "class DataIngestion:\n",
    "    def __init__(self, config: DataIngestionConfig):\n",
    "        self.config = config\n",
    "        \n",
    "\n",
    "    \n",
    "    def download_train_file(self):\n",
    "        if not os.path.exists(self.config.local_data_file_train):\n",
    "            api=KaggleApi()\n",
    "            api.authenticate()\n",
    "            api.competition_download_file('playground-series-s3e8',file_name='train.csv',path=self.config.root_dir)\n",
    "            logging.info(\"Train file download completed:\")\n",
    "        else:\n",
    "            logging.info(f\"File already exists of size: {get_size(Path(self.config.local_data_file_train))}\")  \n",
    "\n",
    "    def download_test_file(self):\n",
    "        if not os.path.exists(self.config.local_data_file_test):\n",
    "            api=KaggleApi()\n",
    "            api.authenticate()\n",
    "            api.competition_download_file('playground-series-s3e8',file_name='test.csv',path=self.config.root_dir)\n",
    "            logging.info(\"Test File Download completed\")\n",
    "        else:\n",
    "            logging.info(f\"File already exists of size: {get_size(Path(self.config.local_data_file_test))}\")  \n",
    "    \n",
    "    def extract_zip_file(self):\n",
    "        \"\"\"\n",
    "        zip_file_path: str\n",
    "        Extracts the zip file into the data directory\n",
    "        Function returns None\n",
    "        \"\"\"\n",
    "        unzip_path = self.config.unzip_dir\n",
    "        os.makedirs(unzip_path, exist_ok=True)\n",
    "        with zipfile.ZipFile(self.config.local_data_file_train, 'r') as zip_ref:\n",
    "            zip_ref.extractall(unzip_path)\n",
    "        logging.info(\"Train file extraction completed\")\n",
    "        with zipfile.ZipFile(self.config.local_data_file_test, 'r') as zip_ref:\n",
    "            zip_ref.extractall(unzip_path)\n",
    "        logging.info(\"Test file extraction completed\")"
   ]
  },
  {
   "cell_type": "code",
   "execution_count": 20,
   "metadata": {},
   "outputs": [
    {
     "name": "stdout",
     "output_type": "stream",
     "text": [
      "[ 2024-02-02 15:41:49,744] 31 root-INFO -yaml file: config\\config.yaml loaded successfully\n",
      "params.yaml\n",
      "config\\config.yaml\n",
      "[ 2024-02-02 15:41:49,766] 31 root-INFO -yaml file: params.yaml loaded successfully\n",
      "[ 2024-02-02 15:41:49,772] 51 root-INFO -created directory at: artifacts\n",
      "[ 2024-02-02 15:41:49,776] 51 root-INFO -created directory at: artifacts/data_ingestion\n",
      "Downloading train.csv.zip to artifacts/data_ingestion\n"
     ]
    },
    {
     "name": "stderr",
     "output_type": "stream",
     "text": [
      "100%|██████████| 3.08M/3.08M [00:01<00:00, 1.97MB/s]"
     ]
    },
    {
     "name": "stdout",
     "output_type": "stream",
     "text": [
      "\n",
      "[ 2024-02-02 15:41:55,994] 12 root-INFO -Train file download completed:\n"
     ]
    },
    {
     "name": "stderr",
     "output_type": "stream",
     "text": [
      "\n"
     ]
    },
    {
     "name": "stdout",
     "output_type": "stream",
     "text": [
      "Downloading test.csv.zip to artifacts/data_ingestion\n"
     ]
    },
    {
     "name": "stderr",
     "output_type": "stream",
     "text": [
      "100%|██████████| 1.70M/1.70M [00:01<00:00, 1.31MB/s]"
     ]
    },
    {
     "name": "stdout",
     "output_type": "stream",
     "text": [
      "\n",
      "[ 2024-02-02 15:42:01,618] 21 root-INFO -Test File Download completed\n"
     ]
    },
    {
     "name": "stderr",
     "output_type": "stream",
     "text": [
      "\n"
     ]
    },
    {
     "name": "stdout",
     "output_type": "stream",
     "text": [
      "[ 2024-02-02 15:42:01,723] 35 root-INFO -Train file extraction completed\n",
      "[ 2024-02-02 15:42:01,819] 38 root-INFO -Test file extraction completed\n"
     ]
    }
   ],
   "source": [
    "try:\n",
    "    config = ConfigurationManager()\n",
    "    data_ingestion_config = config.get_data_ingestion_config()\n",
    "    data_ingestion = DataIngestion(config=data_ingestion_config)\n",
    "    data_ingestion.download_train_file()\n",
    "    data_ingestion.download_test_file()\n",
    "    data_ingestion.extract_zip_file()\n",
    "except Exception as e:\n",
    "    raise e"
   ]
  },
  {
   "cell_type": "code",
   "execution_count": null,
   "metadata": {},
   "outputs": [],
   "source": []
  },
  {
   "cell_type": "code",
   "execution_count": null,
   "metadata": {},
   "outputs": [],
   "source": []
  }
 ],
 "metadata": {
  "kernelspec": {
   "display_name": "Python 3",
   "language": "python",
   "name": "python3"
  },
  "language_info": {
   "codemirror_mode": {
    "name": "ipython",
    "version": 3
   },
   "file_extension": ".py",
   "mimetype": "text/x-python",
   "name": "python",
   "nbconvert_exporter": "python",
   "pygments_lexer": "ipython3",
   "version": "3.9.18"
  }
 },
 "nbformat": 4,
 "nbformat_minor": 2
}
