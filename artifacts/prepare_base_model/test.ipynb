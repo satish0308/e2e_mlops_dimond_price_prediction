{
 "cells": [
  {
   "cell_type": "code",
   "execution_count": 3,
   "metadata": {},
   "outputs": [
    {
     "name": "stdout",
     "output_type": "stream",
     "text": [
      "{'Decision Tree': {'splitter': ['best', 'random']}}\n"
     ]
    }
   ],
   "source": [
    "import json\n",
    "\n",
    "json_data = {\n",
    "    \"models\": {\n",
    "        \"Decision Tree\": \"DecisionTreeRegressor()\"\n",
    "    },\n",
    "    \"params\": {\n",
    "        \"Decision Tree\": {\n",
    "            \"splitter\": [\n",
    "                \"best\",\n",
    "                \"random\"\n",
    "            ]\n",
    "        }\n",
    "    }\n",
    "}\n",
    "\n",
    "# Convert Python dictionary to JSON-formatted string\n",
    "json_string = json.dumps(json_data)\n",
    "\n",
    "# Load JSON string into dictionary\n",
    "data_dict = json.loads(json_string)\n",
    "\n",
    "# Extract the \"models\" dictionary\n",
    "models_dict = data_dict.get(\"params\", {})\n",
    "\n",
    "print(models_dict)\n"
   ]
  },
  {
   "cell_type": "code",
   "execution_count": null,
   "metadata": {},
   "outputs": [],
   "source": []
  }
 ],
 "metadata": {
  "kernelspec": {
   "display_name": "Python 3",
   "language": "python",
   "name": "python3"
  },
  "language_info": {
   "codemirror_mode": {
    "name": "ipython",
    "version": 3
   },
   "file_extension": ".py",
   "mimetype": "text/x-python",
   "name": "python",
   "nbconvert_exporter": "python",
   "pygments_lexer": "ipython3",
   "version": "3.9.18"
  }
 },
 "nbformat": 4,
 "nbformat_minor": 2
}
